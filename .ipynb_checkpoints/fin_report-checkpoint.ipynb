{
 "cells": [
  {
   "cell_type": "code",
   "execution_count": 1,
   "id": "3aa7a430",
   "metadata": {},
   "outputs": [],
   "source": [
    "import pandas as pd"
   ]
  },
  {
   "cell_type": "code",
   "execution_count": 2,
   "id": "c6c78fc0",
   "metadata": {},
   "outputs": [
    {
     "name": "stdout",
     "output_type": "stream",
     "text": [
      "1.4.4\n"
     ]
    }
   ],
   "source": [
    "print (pd.__version__)"
   ]
  },
  {
   "cell_type": "code",
   "execution_count": null,
   "id": "dd1324ea",
   "metadata": {},
   "outputs": [],
   "source": [
    "## search pdf link from a weblink (TBD)\n",
    "## Download pdf fiscal report  \n",
    "## Process pdf (translate picture and locate keywords)\n",
    "## Graph representation"
   ]
  },
  {
   "cell_type": "code",
   "execution_count": null,
   "id": "284808e6",
   "metadata": {},
   "outputs": [],
   "source": []
  },
  {
   "cell_type": "markdown",
   "id": "9970ec9d",
   "metadata": {},
   "source": [
    "## Download pdf fiscal report"
   ]
  },
  {
   "cell_type": "code",
   "execution_count": 18,
   "id": "ea4ec180",
   "metadata": {},
   "outputs": [],
   "source": [
    "from PIL import Image\n",
    "import pytesseract\n",
    "import requests\n",
    "import PyPDF2\n",
    "\n",
    "\n",
    "def download_pdf(url, path_out):\n",
    "    response = requests.get(url)\n",
    "    open(path_out, \"wb\").write(response.content)\n",
    "    return path_out\n",
    "\n",
    "def locate_page(pdf_path, keyword):\n",
    "    with open(pdf_path, 'rb') as f:\n",
    "        pdf_reader = PyPDF2.PdfFileReader(f)\n",
    "        for page in range(pdf_reader.getNumPages()):\n",
    "            text = pdf_reader.getPage(page).extractText()\n",
    "            if keyword in text:\n",
    "                return page+1\n",
    "    return -1"
   ]
  },
  {
   "cell_type": "code",
   "execution_count": 19,
   "id": "88a505b1",
   "metadata": {},
   "outputs": [],
   "source": [
    "Link_pdf = \"https://tesla-cdn.thron.com/static/WTULXQ_TSLA_Q3_2022_Update_KPK2Y7.pdf?xseo=&response-content-disposition=inline%3Bfilename%3D%22tsla-q3-2022-update.pdf%22\""
   ]
  },
  {
   "cell_type": "code",
   "execution_count": 20,
   "id": "681f77f1",
   "metadata": {},
   "outputs": [
    {
     "name": "stdout",
     "output_type": "stream",
     "text": [
      "Keyword found on page 1\n"
     ]
    }
   ],
   "source": [
    "path_pdf = \"test_pdf.pdf\"\n",
    "keyword = \"Update\"\n",
    "#download_pdf(Link_pdf, path_pdf)\n",
    "page_number = locate_page(path_pdf, keyword)\n",
    "if page_number == -1:\n",
    "    print(\"Keyword not found in PDF\")\n",
    "else:\n",
    "    print(\"Keyword found on page\", page_number)"
   ]
  },
  {
   "cell_type": "markdown",
   "id": "4026c2db",
   "metadata": {},
   "source": [
    "## Process pdf (translate picture and locate keywords)\n"
   ]
  },
  {
   "cell_type": "code",
   "execution_count": null,
   "id": "6bf602c6",
   "metadata": {},
   "outputs": [],
   "source": [
    "# Open the picture PDF\n",
    "with Image.open('test_pdf.pdf') as pdf:\n",
    "    # Iterate over the pages of the PDF\n",
    "    for page in pdf.sequence:\n",
    "        # Convert the page to a image\n",
    "        image = Image.new(\"RGB\", pdf.size, (255,255,255))\n",
    "        image.paste(page)\n",
    "        # Extract the text from the image\n",
    "        text = pytesseract.image_to_string(image)\n",
    "\n",
    "# Create a PDF object\n",
    "pdf_file = PyPDF2.PdfFileWriter()\n",
    "# Add the text to a new page in the PDF\n",
    "pdf_file.add_page(text)\n",
    "# Save the PDF to a file\n",
    "with open('normal_pdf.pdf', 'wb') as f:\n",
    "    pdf_file.write(f)\n"
   ]
  }
 ],
 "metadata": {
  "kernelspec": {
   "display_name": "Python 3 (ipykernel)",
   "language": "python",
   "name": "python3"
  },
  "language_info": {
   "codemirror_mode": {
    "name": "ipython",
    "version": 3
   },
   "file_extension": ".py",
   "mimetype": "text/x-python",
   "name": "python",
   "nbconvert_exporter": "python",
   "pygments_lexer": "ipython3",
   "version": "3.9.13"
  }
 },
 "nbformat": 4,
 "nbformat_minor": 5
}
