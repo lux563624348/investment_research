{
 "cells": [
  {
   "cell_type": "code",
   "execution_count": 1,
   "id": "3aa7a430",
   "metadata": {},
   "outputs": [],
   "source": [
    "import pandas as pd"
   ]
  },
  {
   "cell_type": "code",
   "execution_count": 2,
   "id": "c6c78fc0",
   "metadata": {},
   "outputs": [
    {
     "name": "stdout",
     "output_type": "stream",
     "text": [
      "1.4.4\n"
     ]
    }
   ],
   "source": [
    "print (pd.__version__)"
   ]
  },
  {
   "cell_type": "code",
   "execution_count": null,
   "id": "dd1324ea",
   "metadata": {},
   "outputs": [],
   "source": [
    "## search pdf link from a weblink (TBD)\n",
    "## Download pdf fiscal report  \n",
    "## Process pdf (translate picture and locate keywords)\n",
    "## Graph representation"
   ]
  },
  {
   "cell_type": "code",
   "execution_count": null,
   "id": "284808e6",
   "metadata": {},
   "outputs": [],
   "source": []
  },
  {
   "cell_type": "markdown",
   "id": "9970ec9d",
   "metadata": {},
   "source": [
    "## Download pdf fiscal report"
   ]
  },
  {
   "cell_type": "code",
   "execution_count": 56,
   "id": "ea4ec180",
   "metadata": {},
   "outputs": [],
   "source": [
    "from PIL import Image, ImageDraw\n",
    "import pytesseract\n",
    "import requests\n",
    "import PyPDF2\n",
    "import os\n",
    "import sys\n",
    "import codecs\n",
    "\n",
    "def download_pdf(url, path_out):\n",
    "    response = requests.get(url)\n",
    "    open(path_out, \"wb\").write(response.content)\n",
    "    return None\n",
    "\n",
    "def locate_page(pdf_path, keyword):\n",
    "    with open(pdf_path, 'rb') as f:\n",
    "        pdf_reader = PyPDF2.PdfFileReader(f)\n",
    "        for page in range(pdf_reader.getNumPages()):\n",
    "            text = pdf_reader.getPage(page).extractText()\n",
    "            if keyword in text:\n",
    "                return page+1\n",
    "    return -1\n",
    "\n",
    "def text_encode(text, encoding):\n",
    "# Open the file in the desired encoding\n",
    "    with codecs.open('output.txt', 'w', encoding=encoding) as f:\n",
    "    # Write the text to the file\n",
    "        f.write(text)"
   ]
  },
  {
   "cell_type": "code",
   "execution_count": 6,
   "id": "88a505b1",
   "metadata": {},
   "outputs": [],
   "source": [
    "Link_pdf = \"https://tesla-cdn.thron.com/static/WTULXQ_TSLA_Q3_2022_Update_KPK2Y7.pdf?xseo=&response-content-disposition=inline%3Bfilename%3D%22tsla-q3-2022-update.pdf%22\""
   ]
  },
  {
   "cell_type": "code",
   "execution_count": 9,
   "id": "681f77f1",
   "metadata": {},
   "outputs": [
    {
     "name": "stdout",
     "output_type": "stream",
     "text": [
      "Keyword found on page 1\n"
     ]
    }
   ],
   "source": [
    "path_pdf = \"test_report.pdf\"\n",
    "keyword = \"Update\"\n",
    "#download_pdf(Link_pdf, path_pdf)\n",
    "page_number = locate_page(path_pdf, keyword)\n",
    "if page_number == -1:\n",
    "    print(\"Keyword not found in PDF\")\n",
    "else:\n",
    "    print(\"Keyword found on page\", page_number)"
   ]
  },
  {
   "cell_type": "markdown",
   "id": "4026c2db",
   "metadata": {},
   "source": [
    "## Process pdf (translate picture and locate keywords)\n"
   ]
  },
  {
   "cell_type": "code",
   "execution_count": 21,
   "id": "7e82b89c",
   "metadata": {},
   "outputs": [
    {
     "data": {
      "text/plain": [
       "'/Users/lu/team/investment_research'"
      ]
     },
     "execution_count": 21,
     "metadata": {},
     "output_type": "execute_result"
    }
   ],
   "source": [
    "#os.listdir() \n",
    "os.getcwd() #get current working direction"
   ]
  },
  {
   "cell_type": "code",
   "execution_count": 39,
   "id": "a8eb7510",
   "metadata": {},
   "outputs": [],
   "source": [
    "# Simple image to string\n",
    "# testing - result: able to read texts from image\n",
    "# print(pytesseract.image_to_string(Image.open(\"test_table.png\")))"
   ]
  },
  {
   "cell_type": "code",
   "execution_count": 37,
   "id": "ad7c50cd",
   "metadata": {},
   "outputs": [],
   "source": [
    "image_pdf = \"test_report.pdf\"\n",
    "processed_pdf = \"processed.pdf\""
   ]
  },
  {
   "cell_type": "code",
   "execution_count": null,
   "id": "6bf602c6",
   "metadata": {},
   "outputs": [],
   "source": [
    "from reportlab.lib.pagesizes import letter\n",
    "from reportlab.pdfgen import canvas\n",
    "\n",
    "# Open the PDF file\n",
    "with open('test_report.pdf', 'rb') as file:\n",
    "    pdf = PyPDF2.PdfFileReader(file)\n",
    "    \n",
    "   # Create a new PDF file\n",
    "    c = canvas.Canvas(\"processed.pdf\", pagesize=letter)\n",
    "    \n",
    "    # Iterate through each page of the PDF\n",
    "    for page in range(pdf.numPages):\n",
    "        # Extract the image from the page\n",
    "        image = pdf.getPage(page).extractText()\n",
    "        # Run tesseract OCR on the image\n",
    "        text = pytesseract.image_to_string(image)\n",
    "        # Add the recognized text to the new PDF\n",
    "        c.drawString(20, 20, text)\n",
    "        c.showPage()\n",
    "    c.save()\n"
   ]
  },
  {
   "cell_type": "code",
   "execution_count": null,
   "id": "684dbd4b",
   "metadata": {},
   "outputs": [],
   "source": []
  }
 ],
 "metadata": {
  "kernelspec": {
   "display_name": "Python 3 (ipykernel)",
   "language": "python",
   "name": "python3"
  },
  "language_info": {
   "codemirror_mode": {
    "name": "ipython",
    "version": 3
   },
   "file_extension": ".py",
   "mimetype": "text/x-python",
   "name": "python",
   "nbconvert_exporter": "python",
   "pygments_lexer": "ipython3",
   "version": "3.9.13"
  }
 },
 "nbformat": 4,
 "nbformat_minor": 5
}
