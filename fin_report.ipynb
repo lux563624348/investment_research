{
 "cells": [
  {
   "cell_type": "code",
   "execution_count": 1,
   "id": "3aa7a430",
   "metadata": {},
   "outputs": [],
   "source": [
    "import pandas as pd"
   ]
  },
  {
   "cell_type": "code",
   "execution_count": 2,
   "id": "c6c78fc0",
   "metadata": {},
   "outputs": [
    {
     "name": "stdout",
     "output_type": "stream",
     "text": [
      "1.4.4\n"
     ]
    }
   ],
   "source": [
    "print (pd.__version__)"
   ]
  },
  {
   "cell_type": "code",
   "execution_count": null,
   "id": "dd1324ea",
   "metadata": {},
   "outputs": [],
   "source": [
    "## search pdf link from a weblink (TBD)\n",
    "## Download pdf fiscal report  \n",
    "## Process pdf (translate picture and locate keywords)\n",
    "## Graph representation"
   ]
  },
  {
   "cell_type": "code",
   "execution_count": null,
   "id": "284808e6",
   "metadata": {},
   "outputs": [],
   "source": []
  },
  {
   "cell_type": "markdown",
   "id": "9970ec9d",
   "metadata": {},
   "source": [
    "## Download pdf fiscal report"
   ]
  },
  {
   "cell_type": "code",
   "execution_count": 2,
   "id": "ea4ec180",
   "metadata": {},
   "outputs": [],
   "source": [
    "from PIL import Image, ImageDraw\n",
    "import pytesseract\n",
    "import requests\n",
    "import PyPDF2\n",
    "import os\n",
    "import sys\n",
    "import codecs\n",
    "\n",
    "def download_pdf(url, path_out):\n",
    "    response = requests.get(url)\n",
    "    open(path_out, \"wb\").write(response.content)\n",
    "    return None\n",
    "\n",
    "def locate_page(pdf_path, keyword):\n",
    "    with open(pdf_path, 'rb') as f:\n",
    "        pdf_reader = PyPDF2.PdfFileReader(f)\n",
    "        for page in range(pdf_reader.getNumPages()):\n",
    "            text = pdf_reader.getPage(page).extractText()\n",
    "            if keyword in text:\n",
    "                return page+1\n",
    "    return -1\n",
    "\n",
    "def text_encode(text, encoding):\n",
    "# Open the file in the desired encoding\n",
    "    with codecs.open('output.txt', 'w', encoding=encoding) as f:\n",
    "    # Write the text to the file\n",
    "        f.write(text)"
   ]
  },
  {
   "cell_type": "code",
   "execution_count": 3,
   "id": "88a505b1",
   "metadata": {},
   "outputs": [],
   "source": [
    "Link_pdf = \"https://tesla-cdn.thron.com/static/WTULXQ_TSLA_Q3_2022_Update_KPK2Y7.pdf?xseo=&response-content-disposition=inline%3Bfilename%3D%22tsla-q3-2022-update.pdf%22\""
   ]
  },
  {
   "cell_type": "code",
   "execution_count": 4,
   "id": "681f77f1",
   "metadata": {},
   "outputs": [
    {
     "name": "stdout",
     "output_type": "stream",
     "text": [
      "Keyword found on page 1\n"
     ]
    }
   ],
   "source": [
    "path_pdf = \"test_report.pdf\"\n",
    "keyword = \"Update\"\n",
    "#download_pdf(Link_pdf, path_pdf)\n",
    "page_number = locate_page(path_pdf, keyword)\n",
    "if page_number == -1:\n",
    "    print(\"Keyword not found in PDF\")\n",
    "else:\n",
    "    print(\"Keyword found on page\", page_number)"
   ]
  },
  {
   "cell_type": "markdown",
   "id": "4026c2db",
   "metadata": {},
   "source": [
    "## Process pdf (translate picture and locate keywords)\n"
   ]
  },
  {
   "cell_type": "code",
   "execution_count": 5,
   "id": "7e82b89c",
   "metadata": {},
   "outputs": [
    {
     "data": {
      "text/plain": [
       "'/Users/lu/team/investment_research'"
      ]
     },
     "execution_count": 5,
     "metadata": {},
     "output_type": "execute_result"
    }
   ],
   "source": [
    "#os.listdir() \n",
    "os.getcwd() #get current working direction"
   ]
  },
  {
   "cell_type": "code",
   "execution_count": 6,
   "id": "a8eb7510",
   "metadata": {},
   "outputs": [],
   "source": [
    "# Simple image to string\n",
    "# testing - result: able to read texts from image\n",
    "# print(pytesseract.image_to_string(Image.open(\"test_table.png\")))"
   ]
  },
  {
   "cell_type": "code",
   "execution_count": 7,
   "id": "ad7c50cd",
   "metadata": {},
   "outputs": [],
   "source": [
    "image_pdf = \"test_report.pdf\"\n",
    "processed_pdf = \"processed.pdf\""
   ]
  },
  {
   "cell_type": "code",
   "execution_count": 19,
   "id": "563fc45c",
   "metadata": {
    "scrolled": true
   },
   "outputs": [
    {
     "name": "stderr",
     "output_type": "stream",
     "text": [
      "Scanning contents: 100%|██████████████████████| 29/29 [00:19<00:00,  1.49page/s]\n",
      "OCR:   0%|                                         | 0.0/29.0 [00:00<?, ?page/s][tesseract] Error during processing.\n",
      "OCR:  26%|████████▌                        | 7.5/29.0 [00:46<01:32,  4.30s/page][tesseract] lots of diacritics - possibly poor OCR\n",
      "OCR:  47%|██████████████▉                 | 13.5/29.0 [01:39<01:54,  7.40s/page][tesseract] lots of diacritics - possibly poor OCR\n",
      "OCR:  52%|████████████████▌               | 15.0/29.0 [01:41<01:01,  4.43s/page][tesseract] Error during processing.\n",
      "OCR:  71%|██████████████████████▌         | 20.5/29.0 [02:22<00:38,  4.49s/page][tesseract] Error during processing.\n",
      "OCR: 100%|████████████████████████████████| 29.0/29.0 [03:21<00:00,  6.93s/page]\n",
      "PDF/A conversion: 100%|███████████████████████| 29/29 [00:56<00:00,  1.93s/page]\n",
      "Some input metadata could not be copied because it is not permitted in PDF/A. You may wish to examine the output PDF's XMP metadata.\n",
      "Recompressing JPEGs: 0image [00:00, ?image/s]\n",
      "Deflating JPEGs: 100%|██████████████████████| 19/19 [00:00<00:00, 108.50image/s]\n",
      "JBIG2: 0item [00:00, ?item/s]\n",
      "The output file size is 7.96× larger than the input file.\n",
      "Possible reasons for this include:\n",
      "The argument --deskew was issued, causing transcoding.\n",
      "The optional dependency 'jbig2' was not found, so some image optimizations could not be attempted.\n",
      "The optional dependency 'pngquant' was not found, so some image optimizations could not be attempted.\n",
      "PDF/A conversion was enabled. (Try `--output-type pdf`.)\n",
      "\n"
     ]
    }
   ],
   "source": [
    "import ghostscript\n",
    "import ocrmypdf \n",
    "def ocr(file_path, save_path):\n",
    "    ocrmypdf.ocr(file_path, save_path, rotate_pages=True,\n",
    "    language=\"eng\", deskew=True, skip_text=True)\n",
    "ocr(image_pdf, processed_pdf)"
   ]
  },
  {
   "cell_type": "code",
   "execution_count": null,
   "id": "6bf602c6",
   "metadata": {},
   "outputs": [],
   "source": [
    "\n"
   ]
  },
  {
   "cell_type": "code",
   "execution_count": null,
   "id": "684dbd4b",
   "metadata": {},
   "outputs": [],
   "source": []
  }
 ],
 "metadata": {
  "kernelspec": {
   "display_name": "Python 3 (ipykernel)",
   "language": "python",
   "name": "python3"
  },
  "language_info": {
   "codemirror_mode": {
    "name": "ipython",
    "version": 3
   },
   "file_extension": ".py",
   "mimetype": "text/x-python",
   "name": "python",
   "nbconvert_exporter": "python",
   "pygments_lexer": "ipython3",
   "version": "3.9.13"
  }
 },
 "nbformat": 4,
 "nbformat_minor": 5
}
